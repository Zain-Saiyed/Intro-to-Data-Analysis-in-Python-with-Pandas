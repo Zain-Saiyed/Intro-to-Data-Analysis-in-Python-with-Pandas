{
  "nbformat": 4,
  "nbformat_minor": 0,
  "metadata": {
    "kernelspec": {
      "display_name": "Python 3",
      "language": "python",
      "name": "python3"
    },
    "language_info": {
      "codemirror_mode": {
        "name": "ipython",
        "version": 3
      },
      "file_extension": ".py",
      "mimetype": "text/x-python",
      "name": "python",
      "nbconvert_exporter": "python",
      "pygments_lexer": "ipython3",
      "version": "3.7.3"
    },
    "colab": {
      "name": "Intro to Data Analysis with Pandas.ipynb",
      "provenance": [],
      "collapsed_sections": [],
      "toc_visible": true
    }
  },
  "cells": [
    {
      "cell_type": "markdown",
      "metadata": {
        "id": "qK1UNrG95ba4",
        "colab_type": "text"
      },
      "source": [
        "<img src=\"https://upload.wikimedia.org/wikipedia/commons/thumb/e/ed/Pandas_logo.svg/1200px-Pandas_logo.svg.png\" height=\"70%\" width=\"70%\" >\n",
        "<br><br>\n",
        "\n",
        "## *PYTHON DATA ANALYSIS LIBRARY*"
      ]
    },
    {
      "cell_type": "markdown",
      "metadata": {
        "id": "JMjv67FY5ba5",
        "colab_type": "text"
      },
      "source": [
        "### Importing pandas modules :"
      ]
    },
    {
      "cell_type": "code",
      "metadata": {
        "id": "cBiydQuF_Si0",
        "colab_type": "code",
        "colab": {}
      },
      "source": [
        "pip install pandas"
      ],
      "execution_count": 0,
      "outputs": []
    },
    {
      "cell_type": "code",
      "metadata": {
        "id": "Cuq2QmQW5ba7",
        "colab_type": "code",
        "colab": {}
      },
      "source": [
        "import pandas as pd"
      ],
      "execution_count": 0,
      "outputs": []
    },
    {
      "cell_type": "markdown",
      "metadata": {
        "id": "PkRv8q0M5ba_",
        "colab_type": "text"
      },
      "source": [
        "### Pandas Series ?\n",
        "[pandas.Series()](https://pandas.pydata.org/pandas-docs/stable/reference/api/pandas.Series.html#pandas-series)\n",
        ": One-dimensional ndarray with axis labels (including time series)"
      ]
    },
    {
      "cell_type": "code",
      "metadata": {
        "id": "-IzvKlg35ba_",
        "colab_type": "code",
        "colab": {}
      },
      "source": [
        "phone = [\"iphone 10\",\"Note 8\",\"Mate 30 pro\",\"iphone 4s\",\"Galaxy S20 Ultra\"]\n",
        "pd.Series(phone)"
      ],
      "execution_count": 0,
      "outputs": []
    },
    {
      "cell_type": "markdown",
      "metadata": {
        "id": "Gkl_WMhr5bbC",
        "colab_type": "text"
      },
      "source": [
        "### Creating a DataFrame:\n",
        "DataFrame is a 2-dimensional labeled data structure with columns of potentially different types. You can think of it like a spreadsheet or SQL table, or a dict of Series objects. It is generally the most commonly used pandas object. \n",
        "[ [pandas-doc-link](https://pandas.pydata.org/pandas-docs/stable/getting_started/dsintro.html#dataframe) ]\n",
        "\n",
        "##### 1. Creating a DataFrame from Dictionary.\n"
      ]
    },
    {
      "cell_type": "code",
      "metadata": {
        "id": "A_fVG6lC5bbD",
        "colab_type": "code",
        "colab": {}
      },
      "source": [
        "# Dictionary\n",
        "#     my_dict = {  \n",
        "#         key:value,\n",
        "#         key:value,\n",
        "#         key:value,\n",
        "#         ...\n",
        "#     }\n",
        "# Create our dictionary\n",
        "phone_data = {\n",
        "    \"SmartPhone\":(\"iphone 10\",\"Note 8\",\"Mate 30 pro\",\"iphone 4s\",\"Galaxy S20 Ultra\"),\n",
        "    \"Company\":(\"Apple\",\"Samsung\",\"Huawei\",\"Apple\",\"Samsung\"),\n",
        "    \"Rating\":(\"4.5\",\"5.0\",\"3.7\",\"4.0\",\"4.9\")\n",
        "}"
      ],
      "execution_count": 0,
      "outputs": []
    },
    {
      "cell_type": "code",
      "metadata": {
        "scrolled": true,
        "id": "DIWCk6oH5bbF",
        "colab_type": "code",
        "colab": {}
      },
      "source": [
        "# DATAFRAME\n",
        "df = pd.DataFrame(phone_data)\n",
        "df"
      ],
      "execution_count": 0,
      "outputs": []
    },
    {
      "cell_type": "markdown",
      "metadata": {
        "id": "tFc5NV9A5bbI",
        "colab_type": "text"
      },
      "source": [
        "##### 2. Creating a DataFrame from Lists."
      ]
    },
    {
      "cell_type": "code",
      "metadata": {
        "id": "AfkAQe0S5bbJ",
        "colab_type": "code",
        "colab": {}
      },
      "source": [
        "# LIST\n",
        "smartPhone = [\"iphone 10\",\"Note 8\",\"Mate 30 pro\",\"iphone 4s\",\"Galaxy S20 Ultra\"]\n",
        "company = [\"Apple\",\"Samsung\",\"Huawei\",\"Apple\",\"Samsung\"]\n",
        "Rating = [\"4.5\",\"5.0\",\"3.7\",\"4.0\",\"4.9\"]"
      ],
      "execution_count": 0,
      "outputs": []
    },
    {
      "cell_type": "code",
      "metadata": {
        "scrolled": true,
        "id": "2tD1ec7K5bbL",
        "colab_type": "code",
        "colab": {}
      },
      "source": [
        "# zip() function ?\n",
        "for i in zip(smartPhone,company,Rating):\n",
        "    print(i)"
      ],
      "execution_count": 0,
      "outputs": []
    },
    {
      "cell_type": "code",
      "metadata": {
        "scrolled": true,
        "id": "hHlV6xLt5bbP",
        "colab_type": "code",
        "colab": {}
      },
      "source": [
        "# DATAFRAME\n",
        "df = pd.DataFrame(zip(smartPhone,company,Rating))\n",
        "df"
      ],
      "execution_count": 0,
      "outputs": []
    },
    {
      "cell_type": "markdown",
      "metadata": {
        "id": "f-aD3HlD5bbS",
        "colab_type": "text"
      },
      "source": [
        "What about the Column Names?"
      ]
    },
    {
      "cell_type": "code",
      "metadata": {
        "id": "8DF6vhPK5bbS",
        "colab_type": "code",
        "colab": {}
      },
      "source": [
        "# Adding column name in our DataFrame\n",
        "df = pd.DataFrame(zip(smartPhone,company,Rating), columns=[\"SmartPhone\",\"Company\",\"Rating\"])\n",
        "df"
      ],
      "execution_count": 0,
      "outputs": []
    },
    {
      "cell_type": "markdown",
      "metadata": {
        "id": "4L1KBjB65bbU",
        "colab_type": "text"
      },
      "source": [
        "### Renaming Columns"
      ]
    },
    {
      "cell_type": "code",
      "metadata": {
        "id": "EZbvD4gL5bbV",
        "colab_type": "code",
        "colab": {}
      },
      "source": [
        "# Get all the current column names in a list \n",
        "column_names = list(df.columns)\n",
        "column_names"
      ],
      "execution_count": 0,
      "outputs": []
    },
    {
      "cell_type": "code",
      "metadata": {
        "scrolled": true,
        "id": "zKuh2F6H5bbX",
        "colab_type": "code",
        "colab": {}
      },
      "source": [
        "# Renaming all columns\n",
        "df.columns = [\"Smart_Phone\",\"sp_company\",\"RATING\"]\n",
        "df"
      ],
      "execution_count": 0,
      "outputs": []
    },
    {
      "cell_type": "markdown",
      "metadata": {
        "id": "bqGqFHAn5bba",
        "colab_type": "text"
      },
      "source": [
        "**Rename a specific Colummn:**"
      ]
    },
    {
      "cell_type": "code",
      "metadata": {
        "id": "16vGxgdF5bbb",
        "colab_type": "code",
        "colab": {}
      },
      "source": [
        "# rename specific Column\n",
        "df.rename( columns = {'sp_company':'Company','RATING':'Rating'} )"
      ],
      "execution_count": 0,
      "outputs": []
    },
    {
      "cell_type": "markdown",
      "metadata": {
        "id": "XcNfE-QI5bbd",
        "colab_type": "text"
      },
      "source": [
        "## Operations on Columns :\n",
        "We can perform different operations on a column which are **selecting**, **deleting** and **adding** new or existing columns.\n",
        "### For selecting a column :\n",
        "Syntax = dataframe_name[ \"Column Name \" ]"
      ]
    },
    {
      "cell_type": "code",
      "metadata": {
        "id": "AzFtFLd75bbd",
        "colab_type": "code",
        "colab": {}
      },
      "source": [
        "# Print existing DatFrame\n",
        "df"
      ],
      "execution_count": 0,
      "outputs": []
    },
    {
      "cell_type": "code",
      "metadata": {
        "id": "G4cWNRLF5bbf",
        "colab_type": "code",
        "colab": {}
      },
      "source": [
        "# Select \" rating \" column\n",
        "df[\"RATING\"]"
      ],
      "execution_count": 0,
      "outputs": []
    },
    {
      "cell_type": "markdown",
      "metadata": {
        "id": "AU4meIt15bbh",
        "colab_type": "text"
      },
      "source": [
        "### Adding a new Row(s) in DataFrame :\n",
        "We use [append() function](https://pandas.pydata.org/pandas-docs/stable/reference/api/pandas.DataFrame.append.html#pandas-dataframe-append) to append new row(s) to our existing DataFrame."
      ]
    },
    {
      "cell_type": "code",
      "metadata": {
        "id": "en5jbkvODXJ6",
        "colab_type": "code",
        "colab": {}
      },
      "source": [
        "df"
      ],
      "execution_count": 0,
      "outputs": []
    },
    {
      "cell_type": "code",
      "metadata": {
        "id": "446ORuCg5bbi",
        "colab_type": "code",
        "colab": {}
      },
      "source": [
        "# New Data to add to DataFrame\n",
        "new_data=[\n",
        "    {\n",
        "    \"Smart_Phone\":\"ipad\",\n",
        "    \"sp_company\":\"Apple\",\n",
        "    \"RATING\":\"3.6\"\n",
        "    },\n",
        "    {\n",
        "    \"Smart_Phone\":\"ipad 2\",\n",
        "    \"sp_company\":\"Apple\",\n",
        "    \"RATING\":\"4.1\"\n",
        "    }\n",
        "]"
      ],
      "execution_count": 0,
      "outputs": []
    },
    {
      "cell_type": "code",
      "metadata": {
        "id": "-wZ2x7a95bbk",
        "colab_type": "code",
        "colab": {}
      },
      "source": [
        "df.append(new_data)"
      ],
      "execution_count": 0,
      "outputs": []
    },
    {
      "cell_type": "code",
      "metadata": {
        "id": "aK-DeaGI5bbn",
        "colab_type": "code",
        "colab": {}
      },
      "source": [
        "# parameters?\n",
        "df = df.append(new_data,ignore_index=True)"
      ],
      "execution_count": 0,
      "outputs": []
    },
    {
      "cell_type": "code",
      "metadata": {
        "id": "-QpCw1kI5bbr",
        "colab_type": "code",
        "colab": {}
      },
      "source": [
        "df"
      ],
      "execution_count": 0,
      "outputs": []
    },
    {
      "cell_type": "markdown",
      "metadata": {
        "id": "e_YUNIGS5bbv",
        "colab_type": "text"
      },
      "source": [
        "### Adding a new Columns in DataFrame :\n",
        "\n",
        "Using the [assign() function](https://pandas.pydata.org/pandas-docs/stable/reference/api/pandas.DataFrame.assign.html#pandas-dataframe-assign) to add a new column to existing DatFrame()."
      ]
    },
    {
      "cell_type": "code",
      "metadata": {
        "id": "eKLgn7oC5bbw",
        "colab_type": "code",
        "colab": {}
      },
      "source": [
        "ram=[2,4,3,1,6,2,4]\n",
        "df.assign(Smart_RAM=ram)"
      ],
      "execution_count": 0,
      "outputs": []
    },
    {
      "cell_type": "markdown",
      "metadata": {
        "id": "ycVTu-1F5bbz",
        "colab_type": "text"
      },
      "source": [
        "Adding multiple columns :\n"
      ]
    },
    {
      "cell_type": "code",
      "metadata": {
        "id": "nCtENKj65bbz",
        "colab_type": "code",
        "colab": {}
      },
      "source": [
        "ram=[2,4,3,1,6,2,5]\n",
        "storage=[32,128,64,16,64,15,12]\n",
        "battery=[2000,3000,6000,2200,4000,200,1200]\n",
        "\n",
        "df = df.assign(**{'RAM':ram,'Storage':storage,'Battery':battery})"
      ],
      "execution_count": 0,
      "outputs": []
    },
    {
      "cell_type": "code",
      "metadata": {
        "id": "m9_zIDnc5bb1",
        "colab_type": "code",
        "colab": {}
      },
      "source": [
        "df"
      ],
      "execution_count": 0,
      "outputs": []
    },
    {
      "cell_type": "markdown",
      "metadata": {
        "id": "Fjmv9v845bb3",
        "colab_type": "text"
      },
      "source": [
        "You could this too for adding a new column. (*The inplace method*)"
      ]
    },
    {
      "cell_type": "code",
      "metadata": {
        "id": "nxlUaGUH5bb3",
        "colab_type": "code",
        "colab": {}
      },
      "source": [
        "num_camera=[2,2,3,1,4,2,4]\n",
        "df['num_camera']= num_camera\n",
        "df"
      ],
      "execution_count": 0,
      "outputs": []
    },
    {
      "cell_type": "markdown",
      "metadata": {
        "id": "Ykt7BmkL5bb6",
        "colab_type": "text"
      },
      "source": [
        "### Reading a csv file: \n",
        "To read csv files using pandas, we use the function [pd.read_csv()](https://pandas.pydata.org/pandas-docs/stable/reference/api/pandas.read_csv.html#pandas-read-csv) wherein we pass the path to csv file to be imported."
      ]
    },
    {
      "cell_type": "code",
      "metadata": {
        "scrolled": true,
        "id": "8YBPB8ew5bb7",
        "colab_type": "code",
        "colab": {}
      },
      "source": [
        "raw_df = pd.read_csv('titanic.csv')\n",
        "raw_df"
      ],
      "execution_count": 0,
      "outputs": []
    },
    {
      "cell_type": "markdown",
      "metadata": {
        "id": "MK8t0lam5bb9",
        "colab_type": "text"
      },
      "source": [
        "### Analyse the first 5 rows of our Dataset:\n",
        "To have a quick view on the first 5 rows of our dataset, we use the [head() function](https://pandas.pydata.org/pandas-docs/stable/reference/api/pandas.DataFrame.head.html#pandas-dataframe-head) .\n"
      ]
    },
    {
      "cell_type": "code",
      "metadata": {
        "id": "SySkUhjM5bb9",
        "colab_type": "code",
        "colab": {}
      },
      "source": [
        "raw_df.head()"
      ],
      "execution_count": 0,
      "outputs": []
    },
    {
      "cell_type": "code",
      "metadata": {
        "id": "X5UMekty5bcA",
        "colab_type": "code",
        "colab": {}
      },
      "source": [
        "# View first ' n ' columns\n",
        "raw_df.head(15)"
      ],
      "execution_count": 0,
      "outputs": []
    },
    {
      "cell_type": "markdown",
      "metadata": {
        "id": "9MI0DIJ85bcC",
        "colab_type": "text"
      },
      "source": [
        "### Analyse the **last 5 rows** of our Dataset:\n",
        "\n",
        "To have a quick view on the last 5 rows of our dataset, we use the [tail() function](https://pandas.pydata.org/pandas-docs/stable/reference/api/pandas.DataFrame.tail.html#pandas-dataframe-tail) .\n"
      ]
    },
    {
      "cell_type": "code",
      "metadata": {
        "id": "hy4RydU45bcC",
        "colab_type": "code",
        "colab": {}
      },
      "source": [
        "raw_df.tail()"
      ],
      "execution_count": 0,
      "outputs": []
    },
    {
      "cell_type": "code",
      "metadata": {
        "id": "xfTyZvtA5bcE",
        "colab_type": "code",
        "colab": {}
      },
      "source": [
        "# View last ' n ' columns\n",
        "raw_df.tail(10)"
      ],
      "execution_count": 0,
      "outputs": []
    },
    {
      "cell_type": "markdown",
      "metadata": {
        "id": "cbICGQXb5bcG",
        "colab_type": "text"
      },
      "source": [
        "### Get a summary of the distribution of data in our Dataset :\n",
        "\n",
        "The [describe()](https://pandas.pydata.org/pandas-docs/stable/reference/api/pandas.DataFrame.describe.html#pandas-dataframe-describe) fnuction is used for calculating the statistical descriptions like **percentile, mean and standard deviation of the numerical Column values** of the Series or DataFrame."
      ]
    },
    {
      "cell_type": "code",
      "metadata": {
        "id": "w6_CIFsy5bcG",
        "colab_type": "code",
        "colab": {}
      },
      "source": [
        "raw_df.describe()"
      ],
      "execution_count": 0,
      "outputs": []
    },
    {
      "cell_type": "markdown",
      "metadata": {
        "id": "Dv9v7_AN5bcJ",
        "colab_type": "text"
      },
      "source": [
        "### Dataset Summary :\n",
        "In order to get a small summary of our Dataset, which includes the column's datatype, number of not null entries, total number of columns, Total number of rows and memory usage. The [info() function](https://pandas.pydata.org/pandas-docs/stable/reference/api/pandas.DataFrame.info.html#pandas-dataframe-info) is used."
      ]
    },
    {
      "cell_type": "code",
      "metadata": {
        "id": "zAq41GCR5bcK",
        "colab_type": "code",
        "colab": {}
      },
      "source": [
        "raw_df.info()"
      ],
      "execution_count": 0,
      "outputs": []
    },
    {
      "cell_type": "markdown",
      "metadata": {
        "id": "cVdwTew25bcL",
        "colab_type": "text"
      },
      "source": [
        "### Getting unique entries in any column :\n",
        "The [value_counts()](https://pandas.pydata.org/pandas-docs/stable/reference/api/pandas.Series.value_counts.html#pandas-series-value-counts) function returns a Series object containing the counts of unique values present in the column name passed. \n",
        "<br><br>\n",
        "\n",
        "*Syntax* = dataframe_name[ \"Column Name \" ].value_counts()"
      ]
    },
    {
      "cell_type": "code",
      "metadata": {
        "scrolled": true,
        "id": "eHzk22qM5bcM",
        "colab_type": "code",
        "colab": {}
      },
      "source": [
        "# Unique Values in Age Column\n",
        "raw_df['Sex'].value_counts()"
      ],
      "execution_count": 0,
      "outputs": []
    },
    {
      "cell_type": "markdown",
      "metadata": {
        "id": "auSBdTSU5bcP",
        "colab_type": "text"
      },
      "source": [
        "### Get total number of null values in every column :\n",
        "The [isna() function](https://pandas.pydata.org/pandas-docs/stable/reference/api/pandas.DataFrame.isna.html#pandas-dataframe-isna) is used to calculate if the value in that column-row is a null value, return True if value is null else False if not null."
      ]
    },
    {
      "cell_type": "code",
      "metadata": {
        "id": "SVOlavs4Hbjh",
        "colab_type": "code",
        "colab": {}
      },
      "source": [
        "raw_df"
      ],
      "execution_count": 0,
      "outputs": []
    },
    {
      "cell_type": "code",
      "metadata": {
        "id": "g5diXj5K5bcP",
        "colab_type": "code",
        "colab": {}
      },
      "source": [
        "print(\"Number of NaN values in each column:\")\n",
        "# na values ?\n",
        "raw_df.isna().sum()"
      ],
      "execution_count": 0,
      "outputs": []
    },
    {
      "cell_type": "markdown",
      "metadata": {
        "id": "ox6Mfei15bcR",
        "colab_type": "text"
      },
      "source": [
        "### Remove null values :\n",
        "To drop or remove null values from a specific row or column we use the [dropna() function ](https://pandas.pydata.org/pandas-docs/stable/reference/api/pandas.DataFrame.dropna.html#pandas-dataframe-dropna) .\n"
      ]
    },
    {
      "cell_type": "code",
      "metadata": {
        "id": "wUH22-ws5bcR",
        "colab_type": "code",
        "colab": {}
      },
      "source": [
        "# Total Length (Rows) of our dataFrame\n",
        "print(\"Total number of rows :\", len(raw_df))"
      ],
      "execution_count": 0,
      "outputs": []
    },
    {
      "cell_type": "code",
      "metadata": {
        "id": "3qf_RgQJ5bcT",
        "colab_type": "code",
        "colab": {}
      },
      "source": [
        "# Drop all null values in DF\n",
        "raw_df.dropna()"
      ],
      "execution_count": 0,
      "outputs": []
    },
    {
      "cell_type": "markdown",
      "metadata": {
        "id": "LG76UaKg5bcV",
        "colab_type": "text"
      },
      "source": [
        "**!** dropna() Parameters?"
      ]
    },
    {
      "cell_type": "code",
      "metadata": {
        "scrolled": true,
        "id": "gy_Y5Yd15bcV",
        "colab_type": "code",
        "colab": {
          "base_uri": "https://localhost:8080/",
          "height": 51
        },
        "outputId": "912091c2-f056-4ce3-ad17-d06c6bb2deca"
      },
      "source": [
        "print(\"Number of rows in DataFrame after removing all and 'any' null values present in rows:   \")\n",
        "\n",
        "len(raw_df.dropna(how='all'))\n"
      ],
      "execution_count": 92,
      "outputs": [
        {
          "output_type": "stream",
          "text": [
            "Number of rows in DataFrame after removing all and 'any' null values present in rows:   \n"
          ],
          "name": "stdout"
        },
        {
          "output_type": "execute_result",
          "data": {
            "text/plain": [
              "891"
            ]
          },
          "metadata": {
            "tags": []
          },
          "execution_count": 92
        }
      ]
    },
    {
      "cell_type": "markdown",
      "metadata": {
        "id": "UDQURqw85bcX",
        "colab_type": "text"
      },
      "source": [
        "### Replace null values :\n",
        "We use the [ fillna() function ](https://pandas.pydata.org/pandas-docs/stable/reference/api/pandas.DataFrame.fillna.html#pandas-dataframe-fillna) to replace null values.\n",
        "<br><br>\n",
        "In our case lets **fill the null values in Age** column to the **average** value of age."
      ]
    },
    {
      "cell_type": "code",
      "metadata": {
        "id": "C6-7VeSV5bcY",
        "colab_type": "code",
        "colab": {}
      },
      "source": [
        "# Check the names of existing column names in out DataFrame :\n",
        "raw_df.columns"
      ],
      "execution_count": 0,
      "outputs": []
    },
    {
      "cell_type": "code",
      "metadata": {
        "id": "mN9TmfjX5bcZ",
        "colab_type": "code",
        "colab": {}
      },
      "source": [
        "# Assigning all null values in the AGE column to the average value of age of passengers.\n",
        "raw_df[\"Age\"] = raw_df[\"Age\"].fillna(raw_df['Age'].mean())"
      ],
      "execution_count": 0,
      "outputs": []
    },
    {
      "cell_type": "markdown",
      "metadata": {
        "id": "nqM-Mv-QVwXw",
        "colab_type": "text"
      },
      "source": [
        "Check the Number of null values across all column :"
      ]
    },
    {
      "cell_type": "code",
      "metadata": {
        "scrolled": true,
        "id": "74dQxrf-5bcb",
        "colab_type": "code",
        "colab": {}
      },
      "source": [
        "# Check the null values present across all columns\n",
        "raw_df.isna().sum()"
      ],
      "execution_count": 0,
      "outputs": []
    },
    {
      "cell_type": "markdown",
      "metadata": {
        "id": "fXsNJT265bcf",
        "colab_type": "text"
      },
      "source": [
        "### Slicing in Pandas:\n",
        "\n",
        "For selecting specific rows or a range of rows from our dataset, we use slicing. This can be done using either label or integer-based indexing.\n",
        "1. Integer based indexing :"
      ]
    },
    {
      "cell_type": "code",
      "metadata": {
        "id": "f8xBT1615bcg",
        "colab_type": "code",
        "colab": {}
      },
      "source": [
        "raw_df.head(12)"
      ],
      "execution_count": 0,
      "outputs": []
    },
    {
      "cell_type": "markdown",
      "metadata": {
        "id": "gq6sY-U8V1eO",
        "colab_type": "text"
      },
      "source": [
        "Selecting a specific row index  :"
      ]
    },
    {
      "cell_type": "code",
      "metadata": {
        "id": "Y1VAuq5CV5f0",
        "colab_type": "code",
        "colab": {}
      },
      "source": [
        "# For viewing the row at index value = 5\n",
        "raw_df.iloc[5]"
      ],
      "execution_count": 0,
      "outputs": []
    },
    {
      "cell_type": "code",
      "metadata": {
        "scrolled": true,
        "id": "eByr9CVK5bci",
        "colab_type": "code",
        "colab": {}
      },
      "source": [
        "# Selecting the rows from 10 to 20\n",
        "raw_df.iloc[10:21]"
      ],
      "execution_count": 0,
      "outputs": []
    },
    {
      "cell_type": "markdown",
      "metadata": {
        "id": "VjlO9G6I5bcl",
        "colab_type": "text"
      },
      "source": [
        "2. label based:\n",
        "<br>\n",
        "loc function is primarily used for label based searching. Integers can be used for searching but they would be interpreted as labels.\n",
        "<br><br>\n",
        "In our case lets try to filter out all the passengers having Age greator than 20 ."
      ]
    },
    {
      "cell_type": "code",
      "metadata": {
        "id": "nvWb0ym55bcm",
        "colab_type": "code",
        "colab": {}
      },
      "source": [
        "# Running the below commands returns a DataFrame with passengers having \" Age \" greator than 20 .\n",
        "raw_df.loc[ raw_df['Age'] > 20 ]"
      ],
      "execution_count": 0,
      "outputs": []
    },
    {
      "cell_type": "markdown",
      "metadata": {
        "id": "OpEzS-zEXQdw",
        "colab_type": "text"
      },
      "source": [
        "How about multi-conditional searching ? "
      ]
    },
    {
      "cell_type": "code",
      "metadata": {
        "scrolled": true,
        "id": "K2lrlIcz5bco",
        "colab_type": "code",
        "colab": {}
      },
      "source": [
        "# Running the below commands returns a DataFrame with passengers having \" Age \" greator than 20  And having \" male \" gender.\n",
        "raw_df.loc[ (raw_df['Age']>20) & (raw_df['Sex'] == 'male' ) ]"
      ],
      "execution_count": 0,
      "outputs": []
    },
    {
      "cell_type": "markdown",
      "metadata": {
        "id": "JrErKl9i5bcq",
        "colab_type": "text"
      },
      "source": [
        "Can we select two different columns using loc ? "
      ]
    },
    {
      "cell_type": "code",
      "metadata": {
        "scrolled": true,
        "id": "Sx0Q5XvT5bcr",
        "colab_type": "code",
        "colab": {}
      },
      "source": [
        "columns_to_select = ['Name', 'Age']\n",
        "raw_df.loc[ :, columns_to_select ]"
      ],
      "execution_count": 0,
      "outputs": []
    },
    {
      "cell_type": "markdown",
      "metadata": {
        "id": "ZNgF1Frw5bcu",
        "colab_type": "text"
      },
      "source": [
        "<strong>! Also ...</strong>\n",
        "How can we get all the rows which have more than one null values present in our DataFrame :\n",
        "<br><br>\n",
        "This can be done using the followig two commands :\n",
        "<br>\n",
        "\n",
        "1. [pandas.isnull()](https://pandas.pydata.org/pandas-docs/stable/reference/api/pandas.isnull.html#pandas-isnull)\n",
        "2. [DataFrame.any()](https://pandas.pydata.org/pandas-docs/stable/reference/api/pandas.DataFrame.any.html#pandas-dataframe-any)\n"
      ]
    },
    {
      "cell_type": "code",
      "metadata": {
        "id": "srWRW7Hy5bcu",
        "colab_type": "code",
        "colab": {}
      },
      "source": [
        "# DataFrame with more than one null values\n",
        "raw_df[pd.isnull(raw_df).any(axis=1)]"
      ],
      "execution_count": 0,
      "outputs": []
    },
    {
      "cell_type": "markdown",
      "metadata": {
        "id": "EBuhD4rU5bcx",
        "colab_type": "text"
      },
      "source": [
        "<br><br>\n",
        "You have reached the end of this Python Notebook!\n",
        "<hr>"
      ]
    }
  ]
}